{
  "nbformat": 4,
  "nbformat_minor": 0,
  "metadata": {
    "colab": {
      "name": "EstruturaSequencial",
      "provenance": []
    },
    "kernelspec": {
      "name": "python3",
      "display_name": "Python 3"
    },
    "language_info": {
      "name": "python"
    }
  },
  "cells": [
    {
      "cell_type": "markdown",
      "source": [
        "## 1. Faça um Programa que mostre a mensagem \"Alo mundo\" na tela."
      ],
      "metadata": {
        "id": "W83bUlHCMrDZ"
      }
    },
    {
      "cell_type": "code",
      "source": [
        "print('Alo mundo')"
      ],
      "metadata": {
        "colab": {
          "base_uri": "https://localhost:8080/"
        },
        "id": "-6vwDZsbMvpI",
        "outputId": "c742637f-d822-4ac6-a68b-4be1afe6baed"
      },
      "execution_count": null,
      "outputs": [
        {
          "output_type": "stream",
          "name": "stdout",
          "text": [
            "Alo mundo\n"
          ]
        }
      ]
    },
    {
      "cell_type": "markdown",
      "source": [
        "## 2. Faça um Programa que peça um número e então mostre a mensagem O número informado foi [número]."
      ],
      "metadata": {
        "id": "TUVMGM1gM5nR"
      }
    },
    {
      "cell_type": "code",
      "source": [
        "numero = input('Insira um número: ')\n",
        "print('O número informado foi', numero)"
      ],
      "metadata": {
        "colab": {
          "base_uri": "https://localhost:8080/"
        },
        "id": "XxIh0iu3MzJ4",
        "outputId": "b1ab9c3b-c6a8-4c9d-9baa-bcc0f614d064"
      },
      "execution_count": null,
      "outputs": [
        {
          "output_type": "stream",
          "name": "stdout",
          "text": [
            "Insira um número: 12\n",
            "O número informado foi 12\n"
          ]
        }
      ]
    },
    {
      "cell_type": "markdown",
      "source": [
        "## 3. Faça um Programa que peça dois números e imprima a soma."
      ],
      "metadata": {
        "id": "R3V7-P86NO06"
      }
    },
    {
      "cell_type": "code",
      "source": [
        "numero_um = float(input('Insira um número: '))\n",
        "numero_dois = float(input('Insira outro número: '))\n",
        "soma = numero_um + numero_dois\n",
        "print('A soma de {} com {} é {}'.format(numero_um, numero_dois, soma))"
      ],
      "metadata": {
        "colab": {
          "base_uri": "https://localhost:8080/"
        },
        "id": "3tgvlhFxNH5C",
        "outputId": "e7b38360-449b-49e7-ae21-ef446aed18b1"
      },
      "execution_count": null,
      "outputs": [
        {
          "output_type": "stream",
          "name": "stdout",
          "text": [
            "Insira um número: 12\n",
            "Insira outro número: 3\n",
            "A soma de 12.0 com 3.0 é 15.0\n"
          ]
        }
      ]
    },
    {
      "cell_type": "markdown",
      "source": [
        "## 4. Faça um Programa que peça as 4 notas bimestrais e mostre a média."
      ],
      "metadata": {
        "id": "KGwOxcE3N6TA"
      }
    },
    {
      "cell_type": "code",
      "source": [
        "primeira_nota = float(input('Insira a nota do primeiro bimestre: '))\n",
        "segunda_nota = float(input('Insira a nota do segundo bimestre: '))\n",
        "terceira_nota = float(input('Insira a nota do terceiro bimestre: '))\n",
        "quarta_nota = float(input('Insira a nota do quarto bimestre: '))\n",
        "\n",
        "media = (primeira_nota + segunda_nota + terceira_nota + quarta_nota) / 4\n",
        "\n",
        "print(f'A média das notas inseridas é {media}')"
      ],
      "metadata": {
        "colab": {
          "base_uri": "https://localhost:8080/"
        },
        "id": "cbGzm0GBNxlN",
        "outputId": "ce1743b2-4ee5-44c8-bf8a-516ef309ad56"
      },
      "execution_count": null,
      "outputs": [
        {
          "output_type": "stream",
          "name": "stdout",
          "text": [
            "Insira a nota do primeiro bimestre: 5\n",
            "Insira a nota do segundo bimestre: 6\n",
            "Insira a nota do terceiro bimestre: 8\n",
            "Insira a nota do quarto bimestre: 9.5\n",
            "A média das notas inseridas é 7.125\n"
          ]
        }
      ]
    },
    {
      "cell_type": "markdown",
      "source": [
        "## 5. Faça um Programa que converta metros para centímetros."
      ],
      "metadata": {
        "id": "5tRzGFerOjzP"
      }
    },
    {
      "cell_type": "code",
      "source": [
        "metros = float(input('Insira uma medida em metros: '))\n",
        "centimetros = metros * 100\n",
        "print(f'{metros} m é equivalente a {centimetros} cm')"
      ],
      "metadata": {
        "colab": {
          "base_uri": "https://localhost:8080/"
        },
        "id": "ru2L3HVwOcfR",
        "outputId": "cf2add59-3489-4eb0-e3ab-773cb9d1126c"
      },
      "execution_count": null,
      "outputs": [
        {
          "output_type": "stream",
          "name": "stdout",
          "text": [
            "Insira uma medida em metros: 5.3\n",
            "5.3 m é equivalente a 530.0 cm\n"
          ]
        }
      ]
    },
    {
      "cell_type": "markdown",
      "source": [
        "## 6. Faça um Programa que peça o raio de um círculo, calcule e mostre sua área."
      ],
      "metadata": {
        "id": "7lL0tMm1O4kv"
      }
    },
    {
      "cell_type": "code",
      "source": [
        "raio = float(input('Insira o raio de um círculo: '))\n",
        "area = 3.14 * raio ** 2\n",
        "print(f'A área do círculo correspondente é de {area} unidades de área')"
      ],
      "metadata": {
        "colab": {
          "base_uri": "https://localhost:8080/"
        },
        "id": "xt2PoPi8OzCh",
        "outputId": "9c2c1333-1aed-467b-f4ee-0cd6e7ae5e81"
      },
      "execution_count": null,
      "outputs": [
        {
          "output_type": "stream",
          "name": "stdout",
          "text": [
            "Insira o raio de um círculo: 5\n",
            "A área do círculo correspondente é de 78.5 unidades de área\n"
          ]
        }
      ]
    },
    {
      "cell_type": "markdown",
      "source": [
        "## 7. Faça um Programa que calcule a área de um quadrado, em seguida mostre o dobro desta área para o usuário."
      ],
      "metadata": {
        "id": "Y3TgtRJQPmtW"
      }
    },
    {
      "cell_type": "code",
      "source": [
        "lado = float(input('Insira o lado de um quadrado: '))\n",
        "dobro_da_area = 2 * lado ** 2\n",
        "print(f'O dobro da área do quadrado correspondente é igual a {dobro_da_area} unidades de area.')"
      ],
      "metadata": {
        "colab": {
          "base_uri": "https://localhost:8080/"
        },
        "id": "6uf_VPbtPe-l",
        "outputId": "92d3348f-be8d-4617-fd54-2fea2fd7a796"
      },
      "execution_count": null,
      "outputs": [
        {
          "output_type": "stream",
          "name": "stdout",
          "text": [
            "Insira o lado de um quadrado: 5\n",
            "O dobro da área do quadrado correspondente é igual a 50.0 unidades de area.\n"
          ]
        }
      ]
    },
    {
      "cell_type": "markdown",
      "source": [
        "## 8. Faça um Programa que pergunte quanto você ganha por hora e o número de horas trabalhadas no mês. Calcule e mostre o total do seu salário no referido mês."
      ],
      "metadata": {
        "id": "JAfAxePSQADP"
      }
    },
    {
      "cell_type": "code",
      "source": [
        "salario_por_hora = float(input('Quanto você ganhar por hora trabalhada? '))\n",
        "horas_trabalhadas = float(input('Quantas horas você trabalha por mês? '))\n",
        "salario = salario_por_hora * horas_trabalhadas\n",
        "print(f'O seu salário, no referido mês, é de R$', salario)"
      ],
      "metadata": {
        "colab": {
          "base_uri": "https://localhost:8080/"
        },
        "id": "04JpjuE5P6Rg",
        "outputId": "e9ee8860-a916-4921-a0c2-fb8f0c382a9b"
      },
      "execution_count": null,
      "outputs": [
        {
          "output_type": "stream",
          "name": "stdout",
          "text": [
            "Quanto você ganhar por hora trabalhada? 50\n",
            "Quantas horas você trabalha por mês? 200\n",
            "O seu salário, no referido mês, é de R$ 10000.0\n"
          ]
        }
      ]
    },
    {
      "cell_type": "markdown",
      "source": [
        "## 9. Faça um Programa que peça a temperatura em graus Fahrenheit, transforme e mostre a temperatura em graus Celsius."
      ],
      "metadata": {
        "id": "Ss5zar3LQm4N"
      }
    },
    {
      "cell_type": "code",
      "source": [
        "graus_fahrenheit = float(input('Insira uma temperatura em graus Fahrenheit: '))\n",
        "graus_celsius = 5 * ((graus_fahrenheit - 32) / 9)\n",
        "print(f'A respectiva temperatura em graus Celsius é de {graus_celsius}°')"
      ],
      "metadata": {
        "colab": {
          "base_uri": "https://localhost:8080/"
        },
        "id": "H2m2rYvYQf-d",
        "outputId": "5fb777aa-be3b-4aa5-bac3-75026894d42b"
      },
      "execution_count": null,
      "outputs": [
        {
          "output_type": "stream",
          "name": "stdout",
          "text": [
            "Insira uma temperatura em graus Fahrenheit: 75\n",
            "A respectiva temperatura em graus Celsius é de 23.88888888888889°\n"
          ]
        }
      ]
    },
    {
      "cell_type": "markdown",
      "source": [
        "## 10. Faça um Programa que peça a temperatura em graus Celsius, transforme e mostre em graus Fahrenheit."
      ],
      "metadata": {
        "id": "5vlF2wRGRbR1"
      }
    },
    {
      "cell_type": "code",
      "source": [
        "graus_celsius = float(input('Insira uma temperatura em graus Fahrenheit: '))\n",
        "graus_fahrenheit = (9 * graus_celsius / 5) + 32\n",
        "print(f'A respectiva temperatura em graus Fahrenheit é de {graus_fahrenheit}°')"
      ],
      "metadata": {
        "colab": {
          "base_uri": "https://localhost:8080/"
        },
        "id": "lKqt68tHRUTE",
        "outputId": "8b0efa66-622f-4729-fb6d-76eab2ba861d"
      },
      "execution_count": null,
      "outputs": [
        {
          "output_type": "stream",
          "name": "stdout",
          "text": [
            "Insira uma temperatura em graus Fahrenheit: 23.88888888888889\n",
            "A respectiva temperatura em graus Fahrenheit é de 75.0°\n"
          ]
        }
      ]
    },
    {
      "cell_type": "markdown",
      "source": [
        "## 11. Faça um Programa que peça 2 números inteiros e um número real. Calcule e mostre:\n",
        "\n",
        "*   o produto do dobro do primeiro com metade do segundo;\n",
        "*   a soma do triplo do primeiro com o terceiro;\n",
        "*   o terceiro elevado ao cubo."
      ],
      "metadata": {
        "id": "rq_9avZfSZqf"
      }
    },
    {
      "cell_type": "code",
      "source": [
        "primeiro_numero = int(input('Insira um número inteiro: '))\n",
        "segundo_numero = int(input('Insira outro número inteiro: '))\n",
        "terceiro_numero = float(input('Insira um número real: '))\n",
        "\n",
        "produto = (2 * primeiro_numero) * (segundo_numero / 2)\n",
        "soma = (3 * primeiro_numero) + terceiro_numero\n",
        "cubo = terceiro_numero ** 3\n",
        "\n",
        "print(f'O produto do dobro do primeiro com metade do segundo é', produto)\n",
        "print(f'A soma do triplo do primeiro com o terceiro é', soma)\n",
        "print(f'O terceiro elevado ao cubo é', cubo)"
      ],
      "metadata": {
        "colab": {
          "base_uri": "https://localhost:8080/"
        },
        "id": "jTw93DrFR6na",
        "outputId": "f67779bb-6303-4f78-cd94-4518aa3abba4"
      },
      "execution_count": null,
      "outputs": [
        {
          "output_type": "stream",
          "name": "stdout",
          "text": [
            "Insira um número inteiro: 2\n",
            "Insira outro número inteiro: 3\n",
            "Insira um número real: 5.2\n",
            "O produto do dobro do primeiro com metade do segundo é 6.0\n",
            "A soma do triplo do primeiro com o terceiro é 11.2\n",
            "O terceiro elevado ao cubo é 140.608\n"
          ]
        }
      ]
    },
    {
      "cell_type": "markdown",
      "source": [
        "## 12. Tendo como dados de entrada a altura de uma pessoa, construa um algoritmo que calcule seu peso ideal, usando a seguinte fórmula: (72.7*altura) - 58"
      ],
      "metadata": {
        "id": "x6RHPn2kdxuI"
      }
    },
    {
      "cell_type": "code",
      "source": [
        "altura = float(input('Informe a sua altura em metros: '))\n",
        "peso = (72.7 * altura) - 58\n",
        "print(f'O seu peso ideal é de {peso} kg')"
      ],
      "metadata": {
        "colab": {
          "base_uri": "https://localhost:8080/"
        },
        "id": "P8Z0VgcEd_RM",
        "outputId": "cf62dfa0-af78-4e37-dd76-8ed45d55b4eb"
      },
      "execution_count": null,
      "outputs": [
        {
          "output_type": "stream",
          "name": "stdout",
          "text": [
            "Informe a sua altura em metros: 1.66\n",
            "O seu peso ideal é de 62.682 kg\n"
          ]
        }
      ]
    },
    {
      "cell_type": "markdown",
      "source": [
        "## 13. Tendo como dado de entrada a altura (h) de uma pessoa, construa um algoritmo que calcule seu peso ideal, utilizando as seguintes fórmulas:\n",
        "\n",
        "1.   Para homens: (72.7*h) - 58\n",
        "2.   Para mulheres: (62.1*h) - 44.7\n",
        "\n"
      ],
      "metadata": {
        "id": "CvYq6LyLec8n"
      }
    },
    {
      "cell_type": "code",
      "source": [
        "altura = float(input('Insira a sua altura em metros: '))\n",
        "peso_homem = (72.7 * altura) - 58\n",
        "peso_mulher = (62.1 * altura) - 44.7\n",
        "print(f'O seu peso ideal, caso seja homem, é de {peso_homem} e, caso seja mulher, de {peso_mulher}')"
      ],
      "metadata": {
        "colab": {
          "base_uri": "https://localhost:8080/"
        },
        "id": "ec4-3xdSeQQm",
        "outputId": "e6119080-0472-49d1-9586-f48194de3f23"
      },
      "execution_count": null,
      "outputs": [
        {
          "output_type": "stream",
          "name": "stdout",
          "text": [
            "Insira a sua altura em metros: 1.66\n",
            "O seu peso ideal, caso seja homem, é de 62.682 e, caso seja mulher, de 58.385999999999996\n"
          ]
        }
      ]
    },
    {
      "cell_type": "markdown",
      "source": [
        "## 14. João Papo-de-Pescador, homem de bem, comprou um microcomputador para controlar o rendimento diário de seu trabalho. Toda vez que ele traz um peso de peixes maior que o estabelecido pelo regulamento de pesca do estado de São Paulo (50 quilos) deve pagar uma multa de R$ 4,00 por quilo excedente. João precisa que você faça um programa que leia a variável peso (peso de peixes) e calcule o excesso. Gravar na variável excesso a quantidade de quilos além do limite e na variável multa o valor da multa que João deverá pagar. Imprima os dados do programa com as mensagens adequadas."
      ],
      "metadata": {
        "id": "8P4Ai2OdfEkf"
      }
    },
    {
      "cell_type": "code",
      "source": [
        "peso = float(input('Insira o peso total dos peixes, João: '))\n",
        "excesso = peso - 50\n",
        "multa = excesso * 4\n",
        "print('Multa: R$', multa)"
      ],
      "metadata": {
        "colab": {
          "base_uri": "https://localhost:8080/"
        },
        "id": "QnPhmAMXfBpp",
        "outputId": "a85a8f84-d9f6-410a-9ef5-c4ba42310456"
      },
      "execution_count": null,
      "outputs": [
        {
          "output_type": "stream",
          "name": "stdout",
          "text": [
            "Insira o peso total dos peixes, João: 95\n",
            "Multa: R$ 180.0\n"
          ]
        }
      ]
    },
    {
      "cell_type": "markdown",
      "source": [
        "## 15. Faça um Programa que pergunte quanto você ganha por hora e o número de horas trabalhadas no mês. Calcule e mostre o total do seu salário no referido mês, sabendo-se que são descontados 11% para o Imposto de Renda, 8% para o INSS e 5% para o sindicato, faça um programa que nos dê:\n",
        "\n",
        "1.   salário bruto.\n",
        "2.   quanto pagou ao INSS.\n",
        "3.   quanto pagou ao sindicato.\n",
        "4.   o salário líquido.\n",
        "5.   calcule os descontos e o salário líquido, conforme a tabela abaixo:\n",
        "\n",
        "![Screenshot 2022-08-25 212206.png](data:image/png;base64,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)"
      ],
      "metadata": {
        "id": "Fwm1HILIg9vH"
      }
    },
    {
      "cell_type": "code",
      "source": [
        "salario_por_hora = float(input('Quanto você ganha por hora trabalhada? '))\n",
        "horas_trabalhadas = float(input('Quantas horas você trabalha por mês? '))\n",
        "salario_bruto = salario_por_hora * horas_trabalhadas\n",
        "ir = .11 * salario_bruto\n",
        "inss = .08 * salario_bruto\n",
        "sindicato = .05 * salario_bruto\n",
        "salario_liquido = salario_bruto - (ir + inss + sindicato)\n",
        "print('+ Salário Bruto : R$', salario_bruto)\n",
        "print('- IR (11%) : R$', ir)\n",
        "print('- INSS (8%) : R$', inss)\n",
        "print('- Sindicato (5%) : R$', sindicato)\n",
        "print('= Salário Líquido : R$', salario_liquido)"
      ],
      "metadata": {
        "colab": {
          "base_uri": "https://localhost:8080/"
        },
        "id": "aHMQTD7NgYE9",
        "outputId": "1a744850-95e9-4287-ed52-20375995086d"
      },
      "execution_count": null,
      "outputs": [
        {
          "output_type": "stream",
          "name": "stdout",
          "text": [
            "Quanto você ganha por hora trabalhada? 50\n",
            "Quantas horas você trabalha por mês? 200\n",
            "+ Salário Bruto : R$ 10000.0\n",
            "- IR (11%) : R$ 1100.0\n",
            "- INSS (8%) : R$ 800.0\n",
            "- Sindicato (5%) : R$ 500.0\n",
            "= Salário Líquido : R$ 7600.0\n"
          ]
        }
      ]
    },
    {
      "cell_type": "markdown",
      "source": [
        "## 16. Faça um programa para uma loja de tintas. O programa deverá pedir o tamanho em metros quadrados da área a ser pintada. Considere que a cobertura da tinta é de 1 litro para cada 3 metros quadrados e que a tinta é vendida em latas de 18 litros, que custam R$ 80,00. Informe ao usuário a quantidades de latas de tinta a serem compradas e o preço total."
      ],
      "metadata": {
        "id": "OJshg-MtjBT9"
      }
    },
    {
      "cell_type": "code",
      "source": [
        "from math import ceil\n",
        "area = float(input('Insira o tamanho da área a ser pintada, em metros quadrados: '))\n",
        "litros = area / 3\n",
        "latas = ceil(litros / 18)\n",
        "custo_latas = latas * 80\n",
        "print(f'Compre {latas} lata(s) por R$', custo_latas)"
      ],
      "metadata": {
        "colab": {
          "base_uri": "https://localhost:8080/"
        },
        "id": "yq8_ucWri9LJ",
        "outputId": "a4e985d9-a232-4f49-fb8c-50e32cead05d"
      },
      "execution_count": 3,
      "outputs": [
        {
          "output_type": "stream",
          "name": "stdout",
          "text": [
            "Insira o tamanho da área a ser pintada, em metros quadrados: 88\n",
            "Compre 2 lata(s) por R$ 160\n"
          ]
        }
      ]
    },
    {
      "cell_type": "markdown",
      "source": [
        "## 17. Faça um Programa para uma loja de tintas. O programa deverá pedir o tamanho em metros quadrados da área a ser pintada. Considere que a cobertura da tinta é de 1 litro para cada 6 metros quadrados e que a tinta é vendida em latas de 18 litros, que custam 80,00 reais ou em galões de 3,6 litros, que custam 25,00 reais. Informe ao usuário as quantidades de tinta a serem compradas e os respectivos preços em 3 situações:\n",
        "+ comprar apenas latas de 18 litros;\n",
        "+ comprar apenas galões de 3,6 litros;\n",
        "+ misturar latas e galões, de forma que o desperdício de tinta seja menor. Acrescente 10% de folga e sempre arredonde os valores para cima, isto é, considere latas cheias."
      ],
      "metadata": {
        "id": "rN_OxKV4j9eX"
      }
    },
    {
      "cell_type": "code",
      "source": [
        "from math import ceil\n",
        "area = float(input('Insira o tamanho da área a ser pintada, em metros quadrados: '))\n",
        "litros = area / 6\n",
        "latas = ceil(1.1 * (litros / 18))\n",
        "galoes = ceil(1.1 * (litros / 3.6))\n",
        "custo_latas = latas * 80\n",
        "custo_galoes = galoes * 25\n",
        "print('Opções:')\n",
        "print(f'1) Compre {latas} lata(s) por R$ {custo_latas};')\n",
        "print(f'2) Compre {galoes} galão(ões) por R$ {custo_galoes};')\n",
        "# terceira opção\n",
        "latas_mix = (1.1 * litros) // 18\n",
        "resto_litros_mix = (1.1 * litros) % 18\n",
        "galoes_mix = ceil(resto_litros_mix / 3.6)\n",
        "custo_mix = (latas_mix * 80) + (galoes_mix * 25)\n",
        "print(f'3) Compre {latas_mix} lata(s) e {galoes_mix} galão(ões) por R$ {custo_mix}')"
      ],
      "metadata": {
        "colab": {
          "base_uri": "https://localhost:8080/"
        },
        "id": "Iridv7F8jjop",
        "outputId": "6dc10111-9499-4b49-e15b-e45a67265aa1"
      },
      "execution_count": 6,
      "outputs": [
        {
          "output_type": "stream",
          "name": "stdout",
          "text": [
            "Insira o tamanho da área a ser pintada, em metros quadrados: 88\n",
            "Opções:\n",
            "1) Compre 1 lata(s) por R$ 80;\n",
            "2) Compre 5 galão(ões) por R$ 125;\n",
            "3) Compre 0.0 lata(s) e 5 galão(ões) por R$ 125.0\n"
          ]
        }
      ]
    },
    {
      "cell_type": "markdown",
      "source": [
        "## 18. Faça um programa que peça o tamanho de um arquivo para download (em MB) e a velocidade de um link de Internet (em Mbps), calcule e informe o tempo aproximado de download do arquivo usando este link (em minutos)."
      ],
      "metadata": {
        "id": "Q-8XrjESvCmF"
      }
    },
    {
      "cell_type": "code",
      "source": [
        "mb = float(input('Insira o tamanho do arquivo em MB: '))\n",
        "velocidade = float(input('Insira a velocidade do seu link de internet em Mbps: '))\n",
        "segundos = mb / velocidade\n",
        "minutos = round(segundos / 60, 2)\n",
        "print(f'Seu download levará {minutos} minuto(s).')"
      ],
      "metadata": {
        "colab": {
          "base_uri": "https://localhost:8080/"
        },
        "id": "fbSimGMSnZ4x",
        "outputId": "cff070bf-3899-4d48-e613-0952420c7a5e"
      },
      "execution_count": null,
      "outputs": [
        {
          "output_type": "stream",
          "name": "stdout",
          "text": [
            "Insira o tamanho do arquivo em MB: 250\n",
            "Insira a velocidade do seu link de internet em Mbps: 8\n",
            "Seu download levará 0.52 minuto(s).\n"
          ]
        }
      ]
    }
  ]
}